{
  "cells": [
    {
      "cell_type": "markdown",
      "id": "93d2887c",
      "metadata": {
        "id": "93d2887c"
      },
      "source": [
        "# Projeto Data Science: Análise Vendas Beach Tennis"
      ]
    },
    {
      "cell_type": "code",
      "execution_count": null,
      "id": "479a12bd",
      "metadata": {
        "id": "479a12bd"
      },
      "outputs": [],
      "source": [
        "# 1. Importar bibliotecas.\n",
        "import pandas as pd\n",
        "import matplotlib.pyplot as plt\n",
        "import seaborn as sns\n",
        "from sklearn.linear_model import LinearRegression\n",
        "from sklearn.model_selection import train_test_split\n",
        "from sklearn.metrics import mean_squared_error, r2_score\n",
        "\n",
        "sns.set(style=\"whitegrid\")\n",
        "%matplotlib inline"
      ]
    },
    {
      "cell_type": "code",
      "execution_count": null,
      "id": "3424796f",
      "metadata": {
        "id": "3424796f"
      },
      "outputs": [],
      "source": [
        "# 2. Upload e leitura dos dados.\n",
        "from google.colab import files\n",
        "uploaded = files.upload()  # Faça upload do arquivo Base Dados.xlsx\n",
        "\n",
        "df = pd.read_excel('Base Dados.xlsx')\n",
        "\n",
        "print(\"Dados carregados:\")\n",
        "print(df.head())\n",
        "print(\"\\nInformações gerais:\")\n",
        "print(df.info())"
      ]
    },
    {
      "cell_type": "code",
      "execution_count": null,
      "id": "0afd9f09",
      "metadata": {
        "id": "0afd9f09"
      },
      "outputs": [],
      "source": [
        "# 3. Limpeza e padronização.\n",
        "df['Regiao'] = df['Regiao'].str.strip().str.title()\n",
        "df['Segmento'] = df['Segmento'].str.strip().str.title()\n",
        "df['Mes'] = df['Mes'].astype(int)\n",
        "df['Ano'] = df['Ano'].astype(int)\n",
        "df['QuantidadeItens'] = df['QuantidadeItens'].astype(int)\n",
        "\n",
        "print(\"\\nValores faltantes por coluna:\")\n",
        "print(df.isnull().sum())"
      ]
    },
    {
      "cell_type": "markdown",
      "id": "b6f7e399",
      "metadata": {
        "id": "b6f7e399"
      },
      "source": [
        "## 4. Hipóteses (comentários para guiar a análise)\n",
        "- Hipótese 1: A região Sudeste concentra a maior parte das vendas.\n",
        "- Hipótese 2: Segmentos específicos, como 'Loja Especializada', apresentam maiores vendas.\n",
        "- Hipótese 3: Vendas apresentam sazonalidade ao longo do ano."
      ]
    },
    {
      "cell_type": "code",
      "execution_count": null,
      "id": "4e54345e",
      "metadata": {
        "id": "4e54345e"
      },
      "outputs": [],
      "source": [
        "import calendar\n",
        "\n",
        "plt.figure(figsize=(14,7))\n",
        "\n",
        "# Paleta de cores.\n",
        "palette = sns.color_palette(\"tab10\", n_colors=vendas_mes_ano['Ano'].nunique())\n",
        "\n",
        "sns.lineplot(\n",
        "    data=vendas_mes_ano,\n",
        "    x='Mes',\n",
        "    y='QuantidadeItens',\n",
        "    hue='Ano',\n",
        "    marker='o',\n",
        "    palette=palette\n",
        ")\n",
        "\n",
        "# Adicionar valores nos pontos.\n",
        "for ano in vendas_mes_ano['Ano'].unique():\n",
        "    dados_ano = vendas_mes_ano[vendas_mes_ano['Ano'] == ano]\n",
        "    for _, row in dados_ano.iterrows():\n",
        "        plt.text(row['Mes'], row['QuantidadeItens']+10, f\"{int(row['QuantidadeItens'])}\",\n",
        "                 horizontalalignment='center', size='small', color='black')\n",
        "\n",
        "plt.title('Vendas Mensais por Ano', fontsize=18, weight='bold')\n",
        "plt.xlabel('Mês', fontsize=14)\n",
        "plt.ylabel('Quantidade Vendida', fontsize=14)\n",
        "plt.xticks(ticks=range(1,13), labels=[calendar.month_abbr[m] for m in range(1,13)])\n",
        "plt.grid(True, linestyle='--', alpha=0.6)\n",
        "plt.legend(title='Ano')\n",
        "plt.tight_layout()\n",
        "plt.show()\n"
      ]
    },
    {
      "cell_type": "code",
      "execution_count": null,
      "id": "82ddff3b",
      "metadata": {
        "id": "82ddff3b"
      },
      "outputs": [],
      "source": [
        "plt.figure(figsize=(12,8))\n",
        "\n",
        "palette = sns.color_palette(\"pastel\", len(vendas_regiao))\n",
        "\n",
        "ax = sns.barplot(y=vendas_regiao.index, x=vendas_regiao.values, hue=vendas_regiao.index, palette=palette, legend=False)\n",
        "\n",
        "for p in ax.patches:\n",
        "    width = p.get_width()\n",
        "    ax.annotate(f'{int(width)}',\n",
        "                (width, p.get_y() + p.get_height() / 2.),\n",
        "                ha='left', va='center', fontsize=12, fontweight='bold', color='black')\n",
        "\n",
        "plt.title('Vendas Totais por Região', fontsize=18, weight='bold')\n",
        "plt.xlabel('Quantidade Vendida', fontsize=14)\n",
        "plt.ylabel('Região', fontsize=14)\n",
        "plt.xticks(fontsize=12)\n",
        "plt.yticks(fontsize=13)\n",
        "plt.tight_layout()\n",
        "plt.show()\n"
      ]
    },
    {
      "cell_type": "code",
      "execution_count": null,
      "id": "282453ab",
      "metadata": {
        "id": "282453ab"
      },
      "outputs": [],
      "source": [
        "plt.figure(figsize=(12,8))\n",
        "\n",
        "palette = sns.color_palette(\"pastel\", len(vendas_segmento))\n",
        "\n",
        "ax = sns.barplot(y=vendas_segmento.index, x=vendas_segmento.values, hue=vendas_segmento.index, palette=palette, legend=False)\n",
        "\n",
        "for p in ax.patches:\n",
        "    width = p.get_width()\n",
        "    ax.annotate(f'{int(width)}',\n",
        "                (width, p.get_y() + p.get_height() / 2.),\n",
        "                ha='left', va='center', fontsize=11, fontweight='bold', color='black')\n",
        "\n",
        "plt.title('Vendas Totais por Segmento', fontsize=18, weight='bold')\n",
        "plt.xlabel('Quantidade Vendida', fontsize=14)\n",
        "plt.ylabel('Segmento', fontsize=14)\n",
        "plt.xticks(fontsize=12)\n",
        "plt.yticks(fontsize=12)\n",
        "plt.tight_layout()\n",
        "plt.show()\n"
      ]
    },
    {
      "cell_type": "code",
      "execution_count": null,
      "id": "844e050a",
      "metadata": {
        "id": "844e050a"
      },
      "outputs": [],
      "source": [
        "# Top 10 Subcategorias por volume de vendas - gráfico horizontal com valores nas barras.\n",
        "vendas_subcat = df.groupby('IDSubcategoriaProduto')['QuantidadeItens'].sum().sort_values(ascending=False).head(10)\n",
        "\n",
        "plt.figure(figsize=(12,7))\n",
        "\n",
        "palette = sns.color_palette(\"pastel\", len(vendas_subcat))\n",
        "\n",
        "ax = sns.barplot(y=vendas_subcat.index.astype(str), x=vendas_subcat.values, palette=palette)\n",
        "\n",
        "# Adicionar valores nas barras.\n",
        "for p in ax.patches:\n",
        "    width = p.get_width()\n",
        "    ax.annotate(f'{int(width)}',\n",
        "                (width, p.get_y() + p.get_height() / 2.),\n",
        "                ha='left', va='center',\n",
        "                fontsize=12, fontweight='bold', color='black')\n",
        "\n",
        "plt.title('Top 10 Subcategorias por Volume de Vendas', fontsize=18, weight='bold')\n",
        "plt.xlabel('Quantidade Vendida', fontsize=14)\n",
        "plt.ylabel('ID Subcategoria Produto', fontsize=14)\n",
        "plt.xticks(fontsize=12)\n",
        "plt.yticks(fontsize=12)\n",
        "plt.tight_layout()\n",
        "plt.show()\n"
      ]
    },
    {
      "cell_type": "code",
      "execution_count": null,
      "id": "11669018",
      "metadata": {
        "id": "11669018"
      },
      "outputs": [],
      "source": [
        "import matplotlib.pyplot as plt\n",
        "import seaborn as sns\n",
        "import numpy as np\n",
        "\n",
        "plt.figure(figsize=(12,8))\n",
        "\n",
        "ax = sns.heatmap(\n",
        "    vendas_estado_mes,\n",
        "    annot=False,  # desliga o annot interno para fazer manual\n",
        "    fmt='g',\n",
        "    cmap='magma',\n",
        "    linewidths=0.5,\n",
        "    linecolor='gray',\n",
        "    cbar_kws={'label': 'Quantidade Vendida'}\n",
        ")\n",
        "\n",
        "# Escreve os valores na cor branca ou preta dependendo do fundo.\n",
        "for y in range(vendas_estado_mes.shape[0]):\n",
        "    for x in range(vendas_estado_mes.shape[1]):\n",
        "        valor = vendas_estado_mes.iloc[y, x]\n",
        "        cor = 'white' if valor < vendas_estado_mes.values.max() * 0.6 else 'black'  # ajuste o limite 0.6 conforme quiser\n",
        "        ax.text(x + 0.5, y + 0.5, f'{valor}',\n",
        "                ha='center', va='center', color=cor, fontsize=10, fontweight='bold')\n",
        "\n",
        "plt.title('Mapa de Calor - Vendas por Estado e Mês', fontsize=16, weight='bold')\n",
        "plt.ylabel('Estado', fontsize=14)\n",
        "plt.xlabel('Mês', fontsize=14)\n",
        "plt.xticks(rotation=45)\n",
        "plt.yticks(rotation=0)\n",
        "plt.tight_layout()\n",
        "plt.show()\n"
      ]
    },
    {
      "cell_type": "code",
      "execution_count": null,
      "id": "83a9051f",
      "metadata": {
        "id": "83a9051f"
      },
      "outputs": [],
      "source": [
        "from sklearn.ensemble import RandomForestRegressor\n",
        "from sklearn.metrics import mean_squared_error, r2_score\n",
        "from sklearn.pipeline import Pipeline\n",
        "from sklearn.compose import ColumnTransformer\n",
        "from sklearn.preprocessing import OneHotEncoder\n",
        "from sklearn.model_selection import train_test_split\n",
        "\n",
        "# Preparar variáveis preditoras e alvo.\n",
        "X = df[['Ano', 'Mes', 'Regiao', 'Segmento']]\n",
        "y = df['QuantidadeItens']\n",
        "\n",
        "# Separar treino e teste.\n",
        "X_train, X_test, y_train, y_test = train_test_split(X, y, test_size=0.2, random_state=42)\n",
        "\n",
        "# Pré-processamento das variáveis categóricas.\n",
        "categorical_features = ['Regiao', 'Segmento']\n",
        "numeric_features = ['Ano', 'Mes']\n",
        "\n",
        "preprocessor = ColumnTransformer(\n",
        "    transformers=[\n",
        "        ('cat', OneHotEncoder(drop='first'), categorical_features)\n",
        "    ], remainder='passthrough')\n",
        "\n",
        "# Modelo Random Forest.\n",
        "modelo = Pipeline([\n",
        "    ('preprocessador', preprocessor),\n",
        "    ('regressor', RandomForestRegressor(random_state=42))\n",
        "])\n",
        "\n",
        "# Treinamento.\n",
        "modelo.fit(X_train, y_train)\n",
        "\n",
        "# Previsão.\n",
        "y_pred = modelo.predict(X_test)\n",
        "\n",
        "# Avaliação.\n",
        "mse = mean_squared_error(y_test, y_pred)\n",
        "r2 = r2_score(y_test, y_pred)\n",
        "\n",
        "print(f'Erro Quadrático Médio (MSE): {mse:.2f}')\n",
        "print(f'Coeficiente de Determinação (R²): {r2:.2f}')\n"
      ]
    },
    {
      "cell_type": "code",
      "execution_count": null,
      "id": "62ff7d50",
      "metadata": {
        "id": "62ff7d50"
      },
      "outputs": [],
      "source": [
        "# Gráfico simples: valores reais vs previstos.\n",
        "import matplotlib.pyplot as plt\n",
        "\n",
        "plt.figure(figsize=(8,6))\n",
        "plt.scatter(y_test, y_pred, alpha=0.6, edgecolor='k')\n",
        "plt.plot([min(y_test), max(y_test)], [min(y_test), max(y_test)], 'r--', lw=2)\n",
        "plt.xlabel('Quantidade Real')\n",
        "plt.ylabel('Quantidade Prevista')\n",
        "plt.title('Comparação entre Valores Reais e Previstos')\n",
        "plt.grid(True)\n",
        "plt.tight_layout()\n",
        "plt.show()\n",
        "\n",
        "# Mostrar as métricas principais com explicação clara.\n",
        "from sklearn.metrics import mean_squared_error, r2_score\n",
        "\n",
        "mse = mean_squared_error(y_test, y_pred)\n",
        "r2 = r2_score(y_test, y_pred)\n",
        "\n",
        "print(f'Erro Quadrático Médio (MSE): {mse:.2f} — quanto menor, melhor o modelo.')\n",
        "print(f'Coeficiente de Determinação (R²): {r2:.2f} — próximo de 1 indica bom ajuste.')\n"
      ]
    },
    {
      "cell_type": "markdown",
      "id": "7f0d7018",
      "metadata": {
        "id": "7f0d7018"
      },
      "source": [
        "# Como interpretar o gráfico\n",
        "\n",
        "- Cada ponto representa um par: quantidade real vendida (eixo X) e quantidade prevista pelo modelo (eixo Y).\n",
        "\n",
        "- A linha vermelha tracejada representa o cenário ideal onde o valor previsto é exatamente igual ao real (linha y = x).\n",
        "\n",
        "- Pontos próximos dessa linha indicam boas previsões.\n",
        "\n",
        "- Pontos afastados indicam erros maiores (modelo errou ao prever).\n",
        "\n",
        "## E os resultados da métrica?\n",
        "\n",
        "- **MSE = 447.27** — quanto menor, melhor, e está menor que nos modelos anteriores, ótimo sinal.\n",
        "\n",
        "- **R² = 0.35** — indica que o modelo explica cerca de 35% da variação das vendas. Ainda pode melhorar, mas é um avanço comparado aos modelos lineares simples anteriores.\n",
        "\n",
        "## Por que ainda há pontos distantes da linha?\n",
        "\n",
        "- Vendas podem ter muita variabilidade natural, sazonalidade, eventos específicos, que o modelo não captura.\n",
        "\n",
        "- Pode ser interessante tentar modelos mais complexos ou incluir mais variáveis.\n"
      ]
    },
    {
      "cell_type": "markdown",
      "id": "abdbd385",
      "metadata": {
        "id": "abdbd385"
      },
      "source": [
        "## 6. Reporting e Deploy  \n",
        "- Organize gráficos, métricas e insights para apresentar os resultados.  \n",
        "- Use Markdown para documentar o notebook.  \n",
        "- Automatize atualizações com scripts ou crie dashboards interativos usando Dash, Streamlit ou Power BI.  "
      ]
    }
  ],
  "metadata": {
    "colab": {
      "provenance": []
    }
  },
  "nbformat": 4,
  "nbformat_minor": 5
}